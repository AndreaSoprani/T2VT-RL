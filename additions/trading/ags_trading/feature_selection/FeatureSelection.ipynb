{
 "cells": [
  {
   "cell_type": "markdown",
   "metadata": {},
   "source": [
    "# Feature selection"
   ]
  },
  {
   "cell_type": "code",
   "execution_count": 14,
   "metadata": {},
   "outputs": [],
   "source": [
    "import pandas as pd\n",
    "import numpy as np\n",
    "from selection import load_dataset, create_model, compute_r2, get_best_feature\n",
    "import matplotlib.pyplot as plt"
   ]
  },
  {
   "cell_type": "code",
   "execution_count": 2,
   "metadata": {},
   "outputs": [],
   "source": [
    "# Load dataset\n",
    "D, pa, r = load_dataset('../../Feat_sel/final_25_days_60_prec_diff.csv')"
   ]
  },
  {
   "cell_type": "code",
   "execution_count": 3,
   "metadata": {},
   "outputs": [],
   "source": [
    "# Create model\n",
    "model = create_model(min_split=186, njobs=32)"
   ]
  },
  {
   "cell_type": "code",
   "execution_count": 4,
   "metadata": {},
   "outputs": [
    {
     "name": "stdout",
     "output_type": "stream",
     "text": [
      "R2 full: 0.2790595662591546\n",
      "R2 portfolio-action: 0.016103222179198795\n"
     ]
    }
   ],
   "source": [
    "_, r2_start = compute_r2(model, D, r)\n",
    "r_pred_start, r2_portfolio_action = compute_r2(model, pa, r)\n",
    "print(\"R2 full:\", r2_start)\n",
    "print(\"R2 portfolio-action:\", r2_portfolio_action)"
   ]
  },
  {
   "cell_type": "code",
   "execution_count": 19,
   "metadata": {},
   "outputs": [],
   "source": [
    "# Init log structures\n",
    "R2_log = [r2_portfolio_action]\n",
    "selected_indexes = [0, 62] # Features ind Selected"
   ]
  },
  {
   "cell_type": "code",
   "execution_count": 20,
   "metadata": {
    "scrolled": false
   },
   "outputs": [
    {
     "name": "stdout",
     "output_type": "stream",
     "text": [
      "Iteration: 0\n",
      "R2: 0.023215327484324977\n",
      "Iteration: 1\n",
      "R2: 0.05334118096470197\n",
      "Iteration: 2\n",
      "R2: 0.08247428870801932\n",
      "Iteration: 3\n",
      "R2: 0.10547938386835842\n",
      "Iteration: 4\n",
      "R2: 0.11969010096592325\n",
      "Iteration: 5\n",
      "R2: 0.1360117649323639\n",
      "Iteration: 6\n",
      "R2: 0.14753670150130804\n",
      "Iteration: 7\n",
      "R2: 0.1589264592380587\n",
      "Iteration: 8\n",
      "R2: 0.16992647770105918\n",
      "Iteration: 9\n",
      "R2: 0.17695528078448153\n",
      "Iteration: 10\n",
      "R2: 0.1872133619211418\n",
      "Iteration: 11\n",
      "R2: 0.19311155070009645\n",
      "Iteration: 12\n",
      "R2: 0.19783432107006005\n",
      "Iteration: 13\n",
      "R2: 0.20516005852710784\n",
      "Iteration: 14\n",
      "R2: 0.20873284682542603\n",
      "Iteration: 15\n",
      "R2: 0.20288461773804556\n",
      "Iteration: 16\n",
      "R2: 0.20858805267666647\n",
      "Iteration: 17\n",
      "R2: 0.21190035412343444\n",
      "Iteration: 18\n",
      "R2: 0.21327850071323984\n",
      "Iteration: 19\n",
      "R2: 0.21780929888696499\n",
      "Iteration: 20\n",
      "R2: 0.2226019078987349\n",
      "Iteration: 21\n",
      "R2: 0.22721091324195908\n",
      "Iteration: 22\n",
      "R2: 0.23120316480570702\n",
      "Iteration: 23\n",
      "R2: 0.23264069343390392\n",
      "Iteration: 24\n",
      "R2: 0.2372608502635607\n",
      "Iteration: 25\n",
      "R2: 0.2392218829588626\n",
      "Iteration: 26\n",
      "R2: 0.24130277404171596\n",
      "Iteration: 27\n",
      "R2: 0.24431703545092665\n",
      "Iteration: 28\n",
      "R2: 0.24572128182005415\n",
      "Iteration: 29\n",
      "R2: 0.2501020533841578\n",
      "Iteration: 30\n",
      "R2: 0.2523839136471454\n",
      "Iteration: 31\n",
      "R2: 0.25439437121907205\n",
      "Iteration: 32\n",
      "R2: 0.25275974339887575\n",
      "Iteration: 33\n",
      "R2: 0.2547160063197883\n",
      "Iteration: 34\n",
      "R2: 0.25569100669069844\n",
      "Iteration: 35\n",
      "R2: 0.2558204201616936\n",
      "Iteration: 36\n",
      "R2: 0.2585992091643208\n",
      "Iteration: 37\n",
      "R2: 0.260463153294904\n",
      "Iteration: 38\n",
      "R2: 0.2630142092972265\n",
      "Iteration: 39\n",
      "R2: 0.2640794524229406\n",
      "Iteration: 40\n",
      "R2: 0.26397075687688665\n",
      "Iteration: 41\n",
      "R2: 0.26611329699582353\n",
      "Iteration: 42\n",
      "R2: 0.2668232998828963\n",
      "Iteration: 43\n",
      "R2: 0.267513547962658\n",
      "Iteration: 44\n",
      "R2: 0.2687792875805267\n",
      "Iteration: 45\n",
      "R2: 0.27138066476491596\n",
      "Iteration: 46\n",
      "R2: 0.2724667518337105\n",
      "Iteration: 47\n",
      "R2: 0.27363831207534595\n",
      "Iteration: 48\n",
      "R2: 0.27369646184278706\n",
      "Iteration: 49\n",
      "R2: 0.2752320389923023\n",
      "Iteration: 50\n",
      "R2: 0.2754505234381094\n",
      "Iteration: 51\n",
      "R2: 0.2778293200420977\n",
      "Iteration: 52\n",
      "R2: 0.2774374134524944\n",
      "Iteration: 53\n",
      "R2: 0.2794462687175815\n",
      "Iteration: 54\n",
      "R2: 0.27996520413905646\n",
      "Iteration: 55\n",
      "R2: 0.28038779790412616\n",
      "Iteration: 56\n",
      "R2: 0.2807048571404046\n",
      "Iteration: 57\n",
      "R2: 0.2816275824292247\n",
      "Iteration: 58\n",
      "R2: 0.2812950519552869\n",
      "Iteration: 59\n",
      "R2: 0.28233609555160544\n",
      "Iteration: 60\n",
      "R2: 0.2785744636141404\n",
      "Iteration: 61\n",
      "R2: 0.27930617143265735\n",
      "Iteration: 62\n",
      "R2: 0.27899915235506156\n",
      "Iteration: 63\n",
      "R2: 0.27810429148796356\n",
      "Iteration: 64\n",
      "R2: 0.2784525740071835\n",
      "Iteration: 65\n",
      "R2: 0.2787969648551605\n",
      "Iteration: 66\n"
     ]
    },
    {
     "ename": "KeyboardInterrupt",
     "evalue": "",
     "output_type": "error",
     "traceback": [
      "\u001b[0;31m---------------------------------------------------------------------------\u001b[0m",
      "\u001b[0;31mKeyboardInterrupt\u001b[0m                         Traceback (most recent call last)",
      "\u001b[0;32m<ipython-input-20-4f53ca559ce5>\u001b[0m in \u001b[0;36m<module>\u001b[0;34m()\u001b[0m\n\u001b[1;32m      3\u001b[0m \u001b[0;32mwhile\u001b[0m \u001b[0mR2\u001b[0m \u001b[0;34m>\u001b[0m \u001b[0;34m-\u001b[0m\u001b[0;36m1\u001b[0m\u001b[0;34m:\u001b[0m\u001b[0;34m\u001b[0m\u001b[0m\n\u001b[1;32m      4\u001b[0m     \u001b[0mprint\u001b[0m\u001b[0;34m(\u001b[0m\u001b[0;34m'Iteration:'\u001b[0m\u001b[0;34m,\u001b[0m \u001b[0miteration\u001b[0m\u001b[0;34m)\u001b[0m\u001b[0;34m\u001b[0m\u001b[0m\n\u001b[0;32m----> 5\u001b[0;31m     \u001b[0my_pred\u001b[0m\u001b[0;34m,\u001b[0m \u001b[0mR2\u001b[0m \u001b[0;34m=\u001b[0m \u001b[0mget_best_feature\u001b[0m\u001b[0;34m(\u001b[0m\u001b[0mmodel\u001b[0m\u001b[0;34m,\u001b[0m \u001b[0mD\u001b[0m\u001b[0;34m,\u001b[0m \u001b[0mr\u001b[0m\u001b[0;34m,\u001b[0m \u001b[0mselected_indexes\u001b[0m\u001b[0;34m,\u001b[0m \u001b[0mr_pred_start\u001b[0m\u001b[0;34m)\u001b[0m\u001b[0;34m\u001b[0m\u001b[0m\n\u001b[0m\u001b[1;32m      6\u001b[0m     \u001b[0mR2_log\u001b[0m\u001b[0;34m.\u001b[0m\u001b[0mappend\u001b[0m\u001b[0;34m(\u001b[0m\u001b[0mR2\u001b[0m\u001b[0;34m)\u001b[0m\u001b[0;34m\u001b[0m\u001b[0m\n\u001b[1;32m      7\u001b[0m     \u001b[0mprint\u001b[0m\u001b[0;34m(\u001b[0m\u001b[0;34m\"R2:\"\u001b[0m\u001b[0;34m,\u001b[0m \u001b[0mR2\u001b[0m\u001b[0;34m)\u001b[0m\u001b[0;34m\u001b[0m\u001b[0m\n",
      "\u001b[0;32m~/repo/feature_selection/selection.py\u001b[0m in \u001b[0;36mget_best_feature\u001b[0;34m(model, X, y, selected_indexes, y_pred_selected)\u001b[0m\n\u001b[1;32m     47\u001b[0m     \u001b[0;31m# Compute R2 with new features\u001b[0m\u001b[0;34m\u001b[0m\u001b[0;34m\u001b[0m\u001b[0m\n\u001b[1;32m     48\u001b[0m     \u001b[0mx_sel\u001b[0m \u001b[0;34m=\u001b[0m \u001b[0mX\u001b[0m\u001b[0;34m[\u001b[0m\u001b[0;34m:\u001b[0m\u001b[0;34m,\u001b[0m\u001b[0mselected_indexes\u001b[0m\u001b[0;34m]\u001b[0m\u001b[0;34m\u001b[0m\u001b[0m\n\u001b[0;32m---> 49\u001b[0;31m     \u001b[0my_pred\u001b[0m\u001b[0;34m,\u001b[0m \u001b[0mR2\u001b[0m \u001b[0;34m=\u001b[0m \u001b[0mcompute_r2\u001b[0m\u001b[0;34m(\u001b[0m\u001b[0mmodel\u001b[0m\u001b[0;34m,\u001b[0m \u001b[0mx_sel\u001b[0m\u001b[0;34m,\u001b[0m \u001b[0my\u001b[0m\u001b[0;34m)\u001b[0m\u001b[0;34m\u001b[0m\u001b[0m\n\u001b[0m\u001b[1;32m     50\u001b[0m \u001b[0;34m\u001b[0m\u001b[0m\n\u001b[1;32m     51\u001b[0m     \u001b[0;32mreturn\u001b[0m \u001b[0my_pred\u001b[0m\u001b[0;34m,\u001b[0m \u001b[0mR2\u001b[0m\u001b[0;34m\u001b[0m\u001b[0m\n",
      "\u001b[0;32m~/repo/feature_selection/selection.py\u001b[0m in \u001b[0;36mcompute_r2\u001b[0;34m(model, X, y)\u001b[0m\n\u001b[1;32m     28\u001b[0m \u001b[0;34m\u001b[0m\u001b[0m\n\u001b[1;32m     29\u001b[0m \u001b[0;32mdef\u001b[0m \u001b[0mcompute_r2\u001b[0m\u001b[0;34m(\u001b[0m\u001b[0mmodel\u001b[0m\u001b[0;34m,\u001b[0m \u001b[0mX\u001b[0m\u001b[0;34m,\u001b[0m \u001b[0my\u001b[0m\u001b[0;34m)\u001b[0m\u001b[0;34m:\u001b[0m\u001b[0;34m\u001b[0m\u001b[0m\n\u001b[0;32m---> 30\u001b[0;31m     \u001b[0mmodel\u001b[0m\u001b[0;34m.\u001b[0m\u001b[0mfit\u001b[0m\u001b[0;34m(\u001b[0m\u001b[0mX\u001b[0m\u001b[0;34m,\u001b[0m \u001b[0my\u001b[0m\u001b[0;34m)\u001b[0m\u001b[0;34m\u001b[0m\u001b[0m\n\u001b[0m\u001b[1;32m     31\u001b[0m     \u001b[0my_pred\u001b[0m \u001b[0;34m=\u001b[0m \u001b[0mmodel\u001b[0m\u001b[0;34m.\u001b[0m\u001b[0mpredict\u001b[0m\u001b[0;34m(\u001b[0m\u001b[0mX\u001b[0m\u001b[0;34m)\u001b[0m\u001b[0;34m\u001b[0m\u001b[0m\n\u001b[1;32m     32\u001b[0m     \u001b[0;32mreturn\u001b[0m \u001b[0my_pred\u001b[0m\u001b[0;34m,\u001b[0m \u001b[0mr2_score\u001b[0m\u001b[0;34m(\u001b[0m\u001b[0my\u001b[0m\u001b[0;34m,\u001b[0m \u001b[0my_pred\u001b[0m\u001b[0;34m)\u001b[0m\u001b[0;34m\u001b[0m\u001b[0m\n",
      "\u001b[0;32m/usr/local/lib/python3.5/dist-packages/sklearn/ensemble/forest.py\u001b[0m in \u001b[0;36mfit\u001b[0;34m(self, X, y, sample_weight)\u001b[0m\n\u001b[1;32m    245\u001b[0m         \"\"\"\n\u001b[1;32m    246\u001b[0m         \u001b[0;31m# Validate or convert input data\u001b[0m\u001b[0;34m\u001b[0m\u001b[0;34m\u001b[0m\u001b[0m\n\u001b[0;32m--> 247\u001b[0;31m         \u001b[0mX\u001b[0m \u001b[0;34m=\u001b[0m \u001b[0mcheck_array\u001b[0m\u001b[0;34m(\u001b[0m\u001b[0mX\u001b[0m\u001b[0;34m,\u001b[0m \u001b[0maccept_sparse\u001b[0m\u001b[0;34m=\u001b[0m\u001b[0;34m\"csc\"\u001b[0m\u001b[0;34m,\u001b[0m \u001b[0mdtype\u001b[0m\u001b[0;34m=\u001b[0m\u001b[0mDTYPE\u001b[0m\u001b[0;34m)\u001b[0m\u001b[0;34m\u001b[0m\u001b[0m\n\u001b[0m\u001b[1;32m    248\u001b[0m         \u001b[0my\u001b[0m \u001b[0;34m=\u001b[0m \u001b[0mcheck_array\u001b[0m\u001b[0;34m(\u001b[0m\u001b[0my\u001b[0m\u001b[0;34m,\u001b[0m \u001b[0maccept_sparse\u001b[0m\u001b[0;34m=\u001b[0m\u001b[0;34m'csc'\u001b[0m\u001b[0;34m,\u001b[0m \u001b[0mensure_2d\u001b[0m\u001b[0;34m=\u001b[0m\u001b[0;32mFalse\u001b[0m\u001b[0;34m,\u001b[0m \u001b[0mdtype\u001b[0m\u001b[0;34m=\u001b[0m\u001b[0;32mNone\u001b[0m\u001b[0;34m)\u001b[0m\u001b[0;34m\u001b[0m\u001b[0m\n\u001b[1;32m    249\u001b[0m         \u001b[0;32mif\u001b[0m \u001b[0msample_weight\u001b[0m \u001b[0;32mis\u001b[0m \u001b[0;32mnot\u001b[0m \u001b[0;32mNone\u001b[0m\u001b[0;34m:\u001b[0m\u001b[0;34m\u001b[0m\u001b[0m\n",
      "\u001b[0;32m/usr/local/lib/python3.5/dist-packages/sklearn/utils/validation.py\u001b[0m in \u001b[0;36mcheck_array\u001b[0;34m(array, accept_sparse, dtype, order, copy, force_all_finite, ensure_2d, allow_nd, ensure_min_samples, ensure_min_features, warn_on_dtype, estimator)\u001b[0m\n\u001b[1;32m    431\u001b[0m                                       force_all_finite)\n\u001b[1;32m    432\u001b[0m     \u001b[0;32melse\u001b[0m\u001b[0;34m:\u001b[0m\u001b[0;34m\u001b[0m\u001b[0m\n\u001b[0;32m--> 433\u001b[0;31m         \u001b[0marray\u001b[0m \u001b[0;34m=\u001b[0m \u001b[0mnp\u001b[0m\u001b[0;34m.\u001b[0m\u001b[0marray\u001b[0m\u001b[0;34m(\u001b[0m\u001b[0marray\u001b[0m\u001b[0;34m,\u001b[0m \u001b[0mdtype\u001b[0m\u001b[0;34m=\u001b[0m\u001b[0mdtype\u001b[0m\u001b[0;34m,\u001b[0m \u001b[0morder\u001b[0m\u001b[0;34m=\u001b[0m\u001b[0morder\u001b[0m\u001b[0;34m,\u001b[0m \u001b[0mcopy\u001b[0m\u001b[0;34m=\u001b[0m\u001b[0mcopy\u001b[0m\u001b[0;34m)\u001b[0m\u001b[0;34m\u001b[0m\u001b[0m\n\u001b[0m\u001b[1;32m    434\u001b[0m \u001b[0;34m\u001b[0m\u001b[0m\n\u001b[1;32m    435\u001b[0m         \u001b[0;32mif\u001b[0m \u001b[0mensure_2d\u001b[0m\u001b[0;34m:\u001b[0m\u001b[0;34m\u001b[0m\u001b[0m\n",
      "\u001b[0;31mKeyboardInterrupt\u001b[0m: "
     ]
    }
   ],
   "source": [
    "R2 = 0\n",
    "iteration = 0\n",
    "while R2 > -1:\n",
    "    print('Iteration:', iteration)\n",
    "    y_pred, R2 = get_best_feature(model, D, r, selected_indexes, r_pred_start)\n",
    "    R2_log.append(R2)\n",
    "    print(\"R2:\", R2)\n",
    "    iteration += 1"
   ]
  },
  {
   "cell_type": "code",
   "execution_count": 25,
   "metadata": {},
   "outputs": [
    {
     "data": {
      "image/png": "[encoded data removed]",
      "text/plain": [
       "<Figure size 432x288 with 1 Axes>"
      ]
     },
     "metadata": {},
     "output_type": "display_data"
    }
   ],
   "source": [
    "fig = plt.figure()\n",
    "plt.plot([0, len(R2_log)], [r2_start, r2_start], 'r--')\n",
    "plt.plot(R2_log)\n",
    "plt.show();"
   ]
  },
  {
   "cell_type": "code",
   "execution_count": 30,
   "metadata": {},
   "outputs": [
    {
     "data": {
      "image/png": "[encoded data removed]",
      "text/plain": [
       "<Figure size 432x288 with 1 Axes>"
      ]
     },
     "metadata": {},
     "output_type": "display_data"
    }
   ],
   "source": [
    "feat, order = zip(*[(v,len(selected_indexes)-i) for i, v in enumerate(selected_indexes)])\n",
    "plt.bar(feat, order)\n",
    "plt.show();"
   ]
  },
  {
   "cell_type": "code",
   "execution_count": null,
   "metadata": {},
   "outputs": [],
   "source": []
  }
 ],
 "metadata": {
  "kernelspec": {
   "display_name": "Python 3",
   "language": "python",
   "name": "python3"
  },
  "language_info": {
   "codemirror_mode": {
    "name": "ipython",
    "version": 3
   },
   "file_extension": ".py",
   "mimetype": "text/x-python",
   "name": "python",
   "nbconvert_exporter": "python",
   "pygments_lexer": "ipython3",
   "version": "3.5.2"
  }
 },
 "nbformat": 4,
 "nbformat_minor": 2
}
